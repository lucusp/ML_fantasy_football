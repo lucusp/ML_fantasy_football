{
 "cells": [
  {
   "cell_type": "code",
   "execution_count": 9,
   "id": "6e451030",
   "metadata": {},
   "outputs": [],
   "source": [
    "import requests\n",
    "from bs4 import BeautifulSoup\n",
    "import json\n",
    "import pandas as pd\n",
    "import numpy as np\n",
    "import re"
   ]
  },
  {
   "cell_type": "code",
   "execution_count": 10,
   "id": "e1c37201",
   "metadata": {},
   "outputs": [],
   "source": [
    "url = \"https://www.pro-football-reference.com/years/{year}/scrimmage.htm\".format(year=\"{year}\")"
   ]
  },
  {
   "cell_type": "code",
   "execution_count": 11,
   "id": "c6646f15",
   "metadata": {},
   "outputs": [
    {
     "name": "stderr",
     "output_type": "stream",
     "text": [
      "c:\\users\\00141396\\appdata\\local\\programs\\python\\python39\\lib\\site-packages\\urllib3\\connectionpool.py:1013: InsecureRequestWarning: Unverified HTTPS request is being made to host 'www.pro-football-reference.com'. Adding certificate verification is strongly advised. See: https://urllib3.readthedocs.io/en/latest/advanced-usage.html#ssl-warnings\n",
      "  warnings.warn(\n"
     ]
    }
   ],
   "source": [
    "res = requests.get(url.format(year='2020'), verify=False)"
   ]
  },
  {
   "cell_type": "code",
   "execution_count": 12,
   "id": "ef828b82",
   "metadata": {},
   "outputs": [],
   "source": [
    "soup = BeautifulSoup(res.text, \"html.parser\")"
   ]
  },
  {
   "cell_type": "code",
   "execution_count": 13,
   "id": "d3b8774c",
   "metadata": {},
   "outputs": [],
   "source": [
    "parse = soup.findAll('table', {\n",
    "    'id':'receiving_and_rushing'\n",
    "})"
   ]
  },
  {
   "cell_type": "code",
   "execution_count": 27,
   "id": "c6fe98cd",
   "metadata": {},
   "outputs": [],
   "source": [
    "data_stats = soup.findAll('td', {\n",
    "    'data-stat': 'player'\n",
    "})"
   ]
  },
  {
   "cell_type": "code",
   "execution_count": 29,
   "id": "753ae225",
   "metadata": {},
   "outputs": [
    {
     "data": {
      "text/plain": [
       "<td class=\"left\" csk=\"Henry,Derrick\" data-append-csv=\"HenrDe00\" data-stat=\"player\"><a href=\"/players/H/HenrDe00.htm\">Derrick Henry </a>*+</td>"
      ]
     },
     "execution_count": 29,
     "metadata": {},
     "output_type": "execute_result"
    }
   ],
   "source": [
    "data_stats[0]"
   ]
  },
  {
   "cell_type": "code",
   "execution_count": 15,
   "id": "a9851904",
   "metadata": {},
   "outputs": [],
   "source": [
    "baseURL = 'https://www.pro-football-reference.com'"
   ]
  },
  {
   "cell_type": "code",
   "execution_count": 16,
   "id": "3415da72",
   "metadata": {},
   "outputs": [],
   "source": [
    "# https://www.pro-football-reference.com/players/H/HenrDe00/gamelog"
   ]
  },
  {
   "cell_type": "code",
   "execution_count": 32,
   "id": "9a783ab4",
   "metadata": {
    "scrolled": true
   },
   "outputs": [
    {
     "name": "stdout",
     "output_type": "stream",
     "text": [
      "Derrick Henry\n"
     ]
    },
    {
     "name": "stderr",
     "output_type": "stream",
     "text": [
      "c:\\users\\00141396\\appdata\\local\\programs\\python\\python39\\lib\\site-packages\\urllib3\\connectionpool.py:1013: InsecureRequestWarning: Unverified HTTPS request is being made to host 'www.pro-football-reference.com'. Adding certificate verification is strongly advised. See: https://urllib3.readthedocs.io/en/latest/advanced-usage.html#ssl-warnings\n",
      "  warnings.warn(\n"
     ]
    },
    {
     "name": "stdout",
     "output_type": "stream",
     "text": [
      "Dalvin Cook\n"
     ]
    },
    {
     "name": "stderr",
     "output_type": "stream",
     "text": [
      "c:\\users\\00141396\\appdata\\local\\programs\\python\\python39\\lib\\site-packages\\urllib3\\connectionpool.py:1013: InsecureRequestWarning: Unverified HTTPS request is being made to host 'www.pro-football-reference.com'. Adding certificate verification is strongly advised. See: https://urllib3.readthedocs.io/en/latest/advanced-usage.html#ssl-warnings\n",
      "  warnings.warn(\n"
     ]
    }
   ],
   "source": [
    "players = []\n",
    "\n",
    "for row in data_stats[:2]:\n",
    "    pname = row.text.replace(' *', '').replace('*', '').replace('+', '')\n",
    "    print(pname)\n",
    "    phref = row.findAll(href=True)[0]['href']\n",
    "    fullURL = baseURL + phref[:-4] + '/gamelog'\n",
    "    r = requests.get(fullURL, verify=False)\n",
    "    zoup = BeautifulSoup(r.text, 'html.parser')\n",
    "    parze = zoup.findAll('table', {\n",
    "    'id': 'stats'\n",
    "    })\n",
    "    \n",
    "    player_data = {}\n",
    "    p_data = []\n",
    "    i = -1\n",
    "\n",
    "    for a in parze[0].findAll('td'):\n",
    "        data_field = a['data-stat']\n",
    "        data_stat = a.text #.replace(' *', '').replace('*', '').replace('+', '')\n",
    "\n",
    "        if data_field == 'year_id':\n",
    "            i += 1\n",
    "            p_data.append(player_data)\n",
    "            player_data = {}\n",
    "\n",
    "        player_data.update({data_field: data_stat})\n",
    "        \n",
    "    p_data = p_data[1:]\n",
    "    temp_df = pd.DataFrame(p_data)\n",
    "    temp_df.insert(0, 'player_name', pname)\n",
    "    temp_df.to_excel(f'player_data/{pname}.xlsx', index=False)"
   ]
  },
  {
   "cell_type": "code",
   "execution_count": null,
   "id": "ef9fbed0",
   "metadata": {},
   "outputs": [],
   "source": []
  }
 ],
 "metadata": {
  "kernelspec": {
   "display_name": "Python 3",
   "language": "python",
   "name": "python3"
  },
  "language_info": {
   "codemirror_mode": {
    "name": "ipython",
    "version": 3
   },
   "file_extension": ".py",
   "mimetype": "text/x-python",
   "name": "python",
   "nbconvert_exporter": "python",
   "pygments_lexer": "ipython3",
   "version": "3.9.6"
  }
 },
 "nbformat": 4,
 "nbformat_minor": 5
}
